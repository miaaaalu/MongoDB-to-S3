{
 "cells": [
  {
   "cell_type": "code",
   "execution_count": 2,
   "metadata": {},
   "outputs": [],
   "source": [
    "from pymongo import MongoClient\n",
    "import pymongo\n",
    "import os\n",
    "from dotenv import load_dotenv\n",
    "\n",
    "# Globa Env\n",
    "load_dotenv()\n",
    "mongodb_url = os.getenv('MONGODB_URI')\n",
    "mongodb_database = os.getenv('MONGODB_DATABASE')\n",
    "\n",
    "# Create a connection using MongoClient\n",
    "client = MongoClient(mongodb_url)"
   ]
  },
  {
   "cell_type": "code",
   "execution_count": 1,
   "metadata": {},
   "outputs": [],
   "source": [
    "def check_existence_collection(collection_name, db_name, client):\n",
    "    if db_name in client.list_database_names():\n",
    "        db = client[db_name]\n",
    "        if collection_name in db.list_collection_names():\n",
    "            collection_lists = db[collection_name]\n",
    "            print(f'Collection: {collection_name} in Database: {db_name} exists')\n",
    "        else:\n",
    "            print(f'Collection: {collection_name} in Database: {db_name} does not exists') \n",
    "    else:\n",
    "        print(f'{db_name} does not exist')\n",
    "    return collection_lists"
   ]
  },
  {
   "cell_type": "code",
   "execution_count": 64,
   "metadata": {},
   "outputs": [
    {
     "data": {
      "text/plain": [
       "['MeetupEnrollment', 'showcases', 'Course', 'workshops', 'Enrollment']"
      ]
     },
     "execution_count": 64,
     "metadata": {},
     "output_type": "execute_result"
    }
   ],
   "source": [
    "# get a list of collection name \n",
    "test_db = client[MONGODB_DATABASE]\n",
    "collection = test_db\n",
    "dblist = db.list_collection_names()\n",
    "dblist[0:5]"
   ]
  },
  {
   "cell_type": "code",
   "execution_count": 6,
   "metadata": {},
   "outputs": [
    {
     "name": "stdout",
     "output_type": "stream",
     "text": [
      "Database(MongoClient(host=['cluster0-shard-00-00.rzxmk.mongodb.net:27017', 'cluster0-shard-00-02.rzxmk.mongodb.net:27017', 'cluster0-shard-00-01.rzxmk.mongodb.net:27017'], document_class=dict, tz_aware=False, connect=True, retrywrites=True, w='majority', authsource='admin', replicaset='atlas-t9qh02-shard-0', tls=True), 'jiangren') does not exist\n"
     ]
    },
    {
     "ename": "UnboundLocalError",
     "evalue": "local variable 'collection_lists' referenced before assignment",
     "output_type": "error",
     "traceback": [
      "\u001b[0;31m---------------------------------------------------------------------------\u001b[0m",
      "\u001b[0;31mUnboundLocalError\u001b[0m                         Traceback (most recent call last)",
      "\u001b[1;32m/Users/mia/Desktop/JR/Internship Project /etl-mongodb-to-lambda/test.ipynb Cell 4'\u001b[0m in \u001b[0;36m<cell line: 5>\u001b[0;34m()\u001b[0m\n\u001b[1;32m      <a href='vscode-notebook-cell:/Users/mia/Desktop/JR/Internship%20Project%20/etl-mongodb-to-lambda/test.ipynb#ch0000040?line=1'>2</a>\u001b[0m test_db \u001b[39m=\u001b[39m test_client[MONGODB_DATABASE]\n\u001b[1;32m      <a href='vscode-notebook-cell:/Users/mia/Desktop/JR/Internship%20Project%20/etl-mongodb-to-lambda/test.ipynb#ch0000040?line=2'>3</a>\u001b[0m \u001b[39m#test_collection = test_db['users']\u001b[39;00m\n\u001b[0;32m----> <a href='vscode-notebook-cell:/Users/mia/Desktop/JR/Internship%20Project%20/etl-mongodb-to-lambda/test.ipynb#ch0000040?line=4'>5</a>\u001b[0m check_existence_collection(test_collection, test_db, test_client)\n",
      "\u001b[1;32m/Users/mia/Desktop/JR/Internship Project /etl-mongodb-to-lambda/test.ipynb Cell 2'\u001b[0m in \u001b[0;36mcheck_existence_collection\u001b[0;34m(collection_name, db_name, client)\u001b[0m\n\u001b[1;32m     <a href='vscode-notebook-cell:/Users/mia/Desktop/JR/Internship%20Project%20/etl-mongodb-to-lambda/test.ipynb#ch0000039?line=9'>10</a>\u001b[0m \u001b[39melse\u001b[39;00m:\n\u001b[1;32m     <a href='vscode-notebook-cell:/Users/mia/Desktop/JR/Internship%20Project%20/etl-mongodb-to-lambda/test.ipynb#ch0000039?line=10'>11</a>\u001b[0m     \u001b[39mprint\u001b[39m(\u001b[39mf\u001b[39m\u001b[39m'\u001b[39m\u001b[39m{\u001b[39;00mdb_name\u001b[39m}\u001b[39;00m\u001b[39m does not exist\u001b[39m\u001b[39m'\u001b[39m)\n\u001b[0;32m---> <a href='vscode-notebook-cell:/Users/mia/Desktop/JR/Internship%20Project%20/etl-mongodb-to-lambda/test.ipynb#ch0000039?line=11'>12</a>\u001b[0m \u001b[39mreturn\u001b[39;00m collection_lists\n",
      "\u001b[0;31mUnboundLocalError\u001b[0m: local variable 'collection_lists' referenced before assignment"
     ]
    }
   ],
   "source": [
    "test_client = MongoClient(MONGODB_URL)\n",
    "test_db = test_client[MONGODB_DATABASE]\n",
    "#test_collection = test_db['users']\n",
    "\n",
    "check_existence_collection(test_collection, test_db, test_client)"
   ]
  },
  {
   "cell_type": "markdown",
   "metadata": {},
   "source": [
    "client：client\n",
    "\n",
    "db_name：MONGODB_DATABASE\n",
    "\n",
    "collection_name：table_name"
   ]
  },
  {
   "cell_type": "markdown",
   "metadata": {},
   "source": [
    "`$lookup`\n",
    "- Join json: https://stackoverflow.com/questions/71022324/mongodb-join-two-collections-having-json-array-data\n",
    "- $lookup (aggregation) https://www.mongodb.com/docs/manual/reference/operator/aggregation/lookup/#std-label-lookup-single-equality\n",
    "\n",
    "```maql\n",
    "{\n",
    "   $lookup:\n",
    "     {\n",
    "       from: T2\n",
    "       localField: PK from T1\n",
    "       foreignField: FK from T2 \n",
    "       as: array to out put \n",
    "     }\n",
    "}\n",
    "```\n",
    "`$project`\n",
    "- https://www.mongodb.com/docs/manual/reference/operator/aggregation/project/\n",
    "\n",
    "```maql\n",
    "{ $project: { \"<field1>\": 0, \"<field2>\": 0, ... } } // Return all but the specified fields\n",
    "{ $project: { \"<field1>\": 1, \"<field2>\": 1, ... } } // Return the specified fields\n",
    "```"
   ]
  }
 ],
 "metadata": {
  "interpreter": {
   "hash": "aee8b7b246df8f9039afb4144a1f6fd8d2ca17a180786b69acc140d282b71a49"
  },
  "kernelspec": {
   "display_name": "Python 3.9.12 64-bit",
   "language": "python",
   "name": "python3"
  },
  "language_info": {
   "codemirror_mode": {
    "name": "ipython",
    "version": 3
   },
   "file_extension": ".py",
   "mimetype": "text/x-python",
   "name": "python",
   "nbconvert_exporter": "python",
   "pygments_lexer": "ipython3",
   "version": "3.9.12"
  },
  "orig_nbformat": 4
 },
 "nbformat": 4,
 "nbformat_minor": 2
}
